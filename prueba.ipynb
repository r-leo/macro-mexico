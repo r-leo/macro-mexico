{
 "cells": [
  {
   "cell_type": "markdown",
   "metadata": {},
   "source": [
    "# Análisis de variables macroeconómicas"
   ]
  },
  {
   "cell_type": "code",
   "execution_count": 282,
   "metadata": {},
   "outputs": [],
   "source": [
    "# Importar paquetes requeridos\n",
    "import pandas as pd\n",
    "import numpy as np\n",
    "import matplotlib.pyplot as plt\n",
    "plt.close('all')"
   ]
  },
  {
   "cell_type": "markdown",
   "metadata": {},
   "source": [
    "El primer análisis es el del producto interno bruto. Para ello empleamos la serie `pib_trimestral`, que contiene observaciones trimestrales del producto interno bruto a precios constantes (2013):"
   ]
  },
  {
   "cell_type": "code",
   "execution_count": 283,
   "metadata": {
    "scrolled": true
   },
   "outputs": [
    {
     "data": {
      "text/html": [
       "<div>\n",
       "<style scoped>\n",
       "    .dataframe tbody tr th:only-of-type {\n",
       "        vertical-align: middle;\n",
       "    }\n",
       "\n",
       "    .dataframe tbody tr th {\n",
       "        vertical-align: top;\n",
       "    }\n",
       "\n",
       "    .dataframe thead th {\n",
       "        text-align: right;\n",
       "    }\n",
       "</style>\n",
       "<table border=\"1\" class=\"dataframe\">\n",
       "  <thead>\n",
       "    <tr style=\"text-align: right;\">\n",
       "      <th></th>\n",
       "      <th>trimestre</th>\n",
       "      <th>pib</th>\n",
       "      <th>importaciones</th>\n",
       "      <th>consumo</th>\n",
       "      <th>gasto</th>\n",
       "      <th>inversion</th>\n",
       "      <th>exportaciones</th>\n",
       "      <th>discrepancia</th>\n",
       "    </tr>\n",
       "    <tr>\n",
       "      <th>periodo</th>\n",
       "      <th></th>\n",
       "      <th></th>\n",
       "      <th></th>\n",
       "      <th></th>\n",
       "      <th></th>\n",
       "      <th></th>\n",
       "      <th></th>\n",
       "      <th></th>\n",
       "    </tr>\n",
       "  </thead>\n",
       "  <tbody>\n",
       "    <tr>\n",
       "      <th>1993</th>\n",
       "      <td>1</td>\n",
       "      <td>1.000889e+07</td>\n",
       "      <td>1458413.400</td>\n",
       "      <td>6094259.456</td>\n",
       "      <td>1410454.426</td>\n",
       "      <td>2311587.205</td>\n",
       "      <td>1421049.137</td>\n",
       "      <td>229957.838</td>\n",
       "    </tr>\n",
       "    <tr>\n",
       "      <th>1993</th>\n",
       "      <td>2</td>\n",
       "      <td>1.017104e+07</td>\n",
       "      <td>1574506.158</td>\n",
       "      <td>6304689.609</td>\n",
       "      <td>1428916.551</td>\n",
       "      <td>2199172.511</td>\n",
       "      <td>1477720.814</td>\n",
       "      <td>335042.080</td>\n",
       "    </tr>\n",
       "    <tr>\n",
       "      <th>1993</th>\n",
       "      <td>3</td>\n",
       "      <td>1.006626e+07</td>\n",
       "      <td>1558216.038</td>\n",
       "      <td>6243681.365</td>\n",
       "      <td>1376521.052</td>\n",
       "      <td>2214659.705</td>\n",
       "      <td>1465345.740</td>\n",
       "      <td>324266.582</td>\n",
       "    </tr>\n",
       "    <tr>\n",
       "      <th>1993</th>\n",
       "      <td>4</td>\n",
       "      <td>1.041610e+07</td>\n",
       "      <td>1717843.240</td>\n",
       "      <td>6598264.978</td>\n",
       "      <td>1423995.127</td>\n",
       "      <td>2355827.803</td>\n",
       "      <td>1588555.613</td>\n",
       "      <td>167295.950</td>\n",
       "    </tr>\n",
       "    <tr>\n",
       "      <th>1994</th>\n",
       "      <td>1</td>\n",
       "      <td>1.034339e+07</td>\n",
       "      <td>1729058.259</td>\n",
       "      <td>6258192.612</td>\n",
       "      <td>1453656.689</td>\n",
       "      <td>2665717.344</td>\n",
       "      <td>1576502.879</td>\n",
       "      <td>118377.226</td>\n",
       "    </tr>\n",
       "  </tbody>\n",
       "</table>\n",
       "</div>"
      ],
      "text/plain": [
       "         trimestre           pib  importaciones      consumo        gasto  \\\n",
       "periodo                                                                     \n",
       "1993             1  1.000889e+07    1458413.400  6094259.456  1410454.426   \n",
       "1993             2  1.017104e+07    1574506.158  6304689.609  1428916.551   \n",
       "1993             3  1.006626e+07    1558216.038  6243681.365  1376521.052   \n",
       "1993             4  1.041610e+07    1717843.240  6598264.978  1423995.127   \n",
       "1994             1  1.034339e+07    1729058.259  6258192.612  1453656.689   \n",
       "\n",
       "           inversion  exportaciones  discrepancia  \n",
       "periodo                                            \n",
       "1993     2311587.205    1421049.137    229957.838  \n",
       "1993     2199172.511    1477720.814    335042.080  \n",
       "1993     2214659.705    1465345.740    324266.582  \n",
       "1993     2355827.803    1588555.613    167295.950  \n",
       "1994     2665717.344    1576502.879    118377.226  "
      ]
     },
     "execution_count": 283,
     "metadata": {},
     "output_type": "execute_result"
    }
   ],
   "source": [
    "# Cargar base de datos del PIB\n",
    "pib_trimestral = pd.read_excel('pib.xlsx', engine = 'openpyxl')\n",
    "pib_trimestral = pib_trimestral.set_index('periodo')\n",
    "pib_trimestral.head()"
   ]
  },
  {
   "cell_type": "markdown",
   "metadata": {},
   "source": [
    "La serie `pib_trimestral` contiene observaciones del PIB trimestral *anualizado* de México. Esto quiere decir que cada observación se debe dividir por 4 para obtener el PIB del trimestre. Por tanto, para obtener el PIB anual se debe calcular el promedio de los correspondientes valores trimestrales. Esta nueva serie se llama `pib_anual`:"
   ]
  },
  {
   "cell_type": "code",
   "execution_count": 284,
   "metadata": {},
   "outputs": [
    {
     "data": {
      "text/html": [
       "<div>\n",
       "<style scoped>\n",
       "    .dataframe tbody tr th:only-of-type {\n",
       "        vertical-align: middle;\n",
       "    }\n",
       "\n",
       "    .dataframe tbody tr th {\n",
       "        vertical-align: top;\n",
       "    }\n",
       "\n",
       "    .dataframe thead th {\n",
       "        text-align: right;\n",
       "    }\n",
       "</style>\n",
       "<table border=\"1\" class=\"dataframe\">\n",
       "  <thead>\n",
       "    <tr style=\"text-align: right;\">\n",
       "      <th></th>\n",
       "      <th>pib</th>\n",
       "      <th>importaciones</th>\n",
       "      <th>consumo</th>\n",
       "      <th>gasto</th>\n",
       "      <th>inversion</th>\n",
       "      <th>exportaciones</th>\n",
       "      <th>discrepancia</th>\n",
       "    </tr>\n",
       "    <tr>\n",
       "      <th>periodo</th>\n",
       "      <th></th>\n",
       "      <th></th>\n",
       "      <th></th>\n",
       "      <th></th>\n",
       "      <th></th>\n",
       "      <th></th>\n",
       "      <th></th>\n",
       "    </tr>\n",
       "  </thead>\n",
       "  <tbody>\n",
       "    <tr>\n",
       "      <th>1993</th>\n",
       "      <td>1.016557e+07</td>\n",
       "      <td>1.577245e+06</td>\n",
       "      <td>6.310224e+06</td>\n",
       "      <td>1.409972e+06</td>\n",
       "      <td>2.270312e+06</td>\n",
       "      <td>1.488168e+06</td>\n",
       "      <td>264140.61250</td>\n",
       "    </tr>\n",
       "    <tr>\n",
       "      <th>1994</th>\n",
       "      <td>1.066786e+07</td>\n",
       "      <td>1.857120e+06</td>\n",
       "      <td>6.644794e+06</td>\n",
       "      <td>1.452318e+06</td>\n",
       "      <td>2.598265e+06</td>\n",
       "      <td>1.619055e+06</td>\n",
       "      <td>210548.39250</td>\n",
       "    </tr>\n",
       "    <tr>\n",
       "      <th>1995</th>\n",
       "      <td>9.996721e+06</td>\n",
       "      <td>1.561054e+06</td>\n",
       "      <td>6.254226e+06</td>\n",
       "      <td>1.436595e+06</td>\n",
       "      <td>1.785976e+06</td>\n",
       "      <td>1.946071e+06</td>\n",
       "      <td>134905.26825</td>\n",
       "    </tr>\n",
       "    <tr>\n",
       "      <th>1996</th>\n",
       "      <td>1.067382e+07</td>\n",
       "      <td>1.833894e+06</td>\n",
       "      <td>6.537721e+06</td>\n",
       "      <td>1.436303e+06</td>\n",
       "      <td>2.067390e+06</td>\n",
       "      <td>2.246699e+06</td>\n",
       "      <td>219606.00675</td>\n",
       "    </tr>\n",
       "    <tr>\n",
       "      <th>1997</th>\n",
       "      <td>1.140465e+07</td>\n",
       "      <td>2.257764e+06</td>\n",
       "      <td>7.026836e+06</td>\n",
       "      <td>1.505833e+06</td>\n",
       "      <td>2.358747e+06</td>\n",
       "      <td>2.457556e+06</td>\n",
       "      <td>313437.85300</td>\n",
       "    </tr>\n",
       "  </tbody>\n",
       "</table>\n",
       "</div>"
      ],
      "text/plain": [
       "                  pib  importaciones       consumo         gasto  \\\n",
       "periodo                                                            \n",
       "1993     1.016557e+07   1.577245e+06  6.310224e+06  1.409972e+06   \n",
       "1994     1.066786e+07   1.857120e+06  6.644794e+06  1.452318e+06   \n",
       "1995     9.996721e+06   1.561054e+06  6.254226e+06  1.436595e+06   \n",
       "1996     1.067382e+07   1.833894e+06  6.537721e+06  1.436303e+06   \n",
       "1997     1.140465e+07   2.257764e+06  7.026836e+06  1.505833e+06   \n",
       "\n",
       "            inversion  exportaciones  discrepancia  \n",
       "periodo                                             \n",
       "1993     2.270312e+06   1.488168e+06  264140.61250  \n",
       "1994     2.598265e+06   1.619055e+06  210548.39250  \n",
       "1995     1.785976e+06   1.946071e+06  134905.26825  \n",
       "1996     2.067390e+06   2.246699e+06  219606.00675  \n",
       "1997     2.358747e+06   2.457556e+06  313437.85300  "
      ]
     },
     "execution_count": 284,
     "metadata": {},
     "output_type": "execute_result"
    }
   ],
   "source": [
    "# Agrupar por periodo y calcular la media:\n",
    "pib_anual = pib_trimestral.copy()\n",
    "pib_anual = pib_anual.groupby('periodo')\n",
    "pib_anual = pib_anual.aggregate(np.mean)\n",
    "\n",
    "# Eliminar la columna 'trimestre' que ya no es necesaria:\n",
    "pib_anual.pop('trimestre')\n",
    "\n",
    "pib_anual.head()"
   ]
  },
  {
   "cell_type": "markdown",
   "metadata": {},
   "source": [
    "Si el cálculo es correcto esperamos que se cumpla la identidad contable:\n",
    "\n",
    "$$ Y = C + I + G + EX - IM + \\epsilon$$\n",
    "\n",
    "donde $Y$ es el PIB (del lado de la oferta), mientras que el lado de la demanda es la suma del consumo ($C$), la inversión ($I$), el gasto público ($G$), las exportaciones ($EX$), las importaciones ($IM$) y la llamada \"discrepancia estadística\" $\\epsilon$. Verificamos que sea así:"
   ]
  },
  {
   "cell_type": "code",
   "execution_count": 285,
   "metadata": {},
   "outputs": [
    {
     "data": {
      "text/plain": [
       "(0.0, 0.0)"
      ]
     },
     "execution_count": 285,
     "metadata": {},
     "output_type": "execute_result"
    }
   ],
   "source": [
    "pib_anual_2 = pib_anual.copy()\n",
    "\n",
    "# Obtener la suma de los componentes del lado de la demanda:\n",
    "pib_anual_2['suma'] = pib_anual_2['consumo'] + pib_anual_2['inversion'] + pib_anual_2['gasto'] + pib_anual_2['exportaciones'] - pib_anual_2['importaciones'] + pib_anual_2['discrepancia']\n",
    "\n",
    "# Obtener la diferencia entre el PIB (oferta) y la demanda, que debe ser cero:\n",
    "pib_anual_2['diferencia'] = round(pib_anual_2['pib'] - pib_anual_2['suma'])\n",
    "pib_anual_2.loc[:, ['pib', 'suma', 'diferencia']]\n",
    "\n",
    "# Diferencia máxima y mínima:\n",
    "(max(pib_anual_2['diferencia']), min(pib_anual_2['diferencia']))"
   ]
  },
  {
   "cell_type": "markdown",
   "metadata": {},
   "source": [
    "Como las diferencias máxima y mínima son ambas cero, entonces todas las observaciones de la base de datos cumplen la identidad contable anterior. Por lo tanto el cálculo del PIB anual es correcto."
   ]
  },
  {
   "cell_type": "code",
   "execution_count": 286,
   "metadata": {},
   "outputs": [
    {
     "data": {
      "text/plain": [
       "Text(0, 0.5, 'Producto interno bruto anual ($M)')"
      ]
     },
     "execution_count": 286,
     "metadata": {},
     "output_type": "execute_result"
    },
    {
     "data": {
      "image/png": "[encoded data removed]",
      "text/plain": [
       "<Figure size 432x288 with 1 Axes>"
      ]
     },
     "metadata": {
      "needs_background": "light"
     },
     "output_type": "display_data"
    }
   ],
   "source": [
    "pib_anual['pib'].plot()\n",
    "plt.xlabel('Periodo')\n",
    "plt.ylabel('Producto interno bruto anual ($M)')"
   ]
  },
  {
   "cell_type": "markdown",
   "metadata": {},
   "source": [
    "En general, pensamos que el crecimiento del PIB guarda una correlación positiva con el crecimiento de la población. Por eso, para utilizar el PIB como una medida del crecimiento económico más objetiva es útil eliminar este efecto calculando el PIB per cápita (notamos que puede haber crecimiento de población y contracción del producto simultáneamente en el corto plazo).\n",
    "\n",
    "Usaremos la serie `poblacion` que contiene información de la población de México registrada en los censos quinquenales:"
   ]
  },
  {
   "cell_type": "code",
   "execution_count": 287,
   "metadata": {},
   "outputs": [
    {
     "data": {
      "text/plain": [
       "Text(0, 0.5, 'Población')"
      ]
     },
     "execution_count": 287,
     "metadata": {},
     "output_type": "execute_result"
    },
    {
     "data": {
      "image/png": "[encoded data removed]",
      "text/plain": [
       "<Figure size 432x288 with 1 Axes>"
      ]
     },
     "metadata": {
      "needs_background": "light"
     },
     "output_type": "display_data"
    }
   ],
   "source": [
    "# Cargar base de datos de la población\n",
    "poblacion = pd.read_excel('poblacion.xlsx', engine = 'openpyxl')\n",
    "poblacion = poblacion.set_index('periodo')\n",
    "plt.plot(poblacion['poblacion'], 'o')\n",
    "plt.xlabel('Periodo')\n",
    "plt.ylabel('Población')"
   ]
  },
  {
   "cell_type": "markdown",
   "metadata": {},
   "source": [
    "Debido a que la información no es anual, es necesario estimar la población en los periodos intercensales. La forma más sencilla de hacerlo es mediante una estimación (interpolación) lineal entre los periodos censales. Dadas dos observaciones (en censos consecutivos) $p_t$ y $p_{t+k}$ de la población, la estimación para $p_r$ (donde $t \\leq r \\leq t+k$) estará dada por:\n",
    "\n",
    "$$p_r = p_t + \\frac{p_{t+k} - p_t}{k} (r-t)$$"
   ]
  },
  {
   "cell_type": "code",
   "execution_count": 288,
   "metadata": {},
   "outputs": [],
   "source": [
    "# Límites para estimar la población\n",
    "periodo_inicial = min(poblacion.index)\n",
    "periodo_final = max(pib_anual.index)\n",
    "\n",
    "estimados = dict()\n",
    "\n",
    "# Algoritmo de estimación:\n",
    "for periodo in range(periodo_inicial, periodo_final + 1):\n",
    "    if periodo in poblacion.index:\n",
    "        estimados[periodo] = poblacion.loc[periodo].poblacion\n",
    "    else:\n",
    "        obs_1 = periodo\n",
    "        obs_2 = periodo\n",
    "        if periodo > max(poblacion.index):\n",
    "            obs_1 = max(poblacion.index[:-1])\n",
    "            obs_2 = max(poblacion.index)\n",
    "        else:\n",
    "            while obs_1 not in poblacion.index:\n",
    "                obs_1 = obs_1 -1\n",
    "            while obs_2 not in poblacion.index:\n",
    "                obs_2 = obs_2 + 1\n",
    "        estimacion = poblacion.loc[obs_1].poblacion + (poblacion.loc[obs_2].poblacion - poblacion.loc[obs_1].poblacion) / (obs_2 - obs_1) * (periodo - obs_1)\n",
    "        estimacion = int(estimacion)\n",
    "        estimados[periodo] = estimacion\n",
    "\n",
    "# Data frame final con las estimaciones:\n",
    "poblacion_estimada = pd.DataFrame({'periodo': estimados.keys(), 'poblacion': estimados.values()})\n",
    "poblacion_estimada = poblacion_estimada.set_index('periodo')"
   ]
  },
  {
   "cell_type": "markdown",
   "metadata": {},
   "source": [
    "Verificamos que la estimación intercensal sea congruente con los datos"
   ]
  },
  {
   "cell_type": "code",
   "execution_count": 289,
   "metadata": {},
   "outputs": [
    {
     "data": {
      "text/plain": [
       "[<matplotlib.lines.Line2D at 0x7f9df2e40518>]"
      ]
     },
     "execution_count": 289,
     "metadata": {},
     "output_type": "execute_result"
    },
    {
     "data": {
      "image/png": "[encoded data removed]",
      "text/plain": [
       "<Figure size 432x288 with 2 Axes>"
      ]
     },
     "metadata": {
      "needs_background": "light"
     },
     "output_type": "display_data"
    }
   ],
   "source": [
    "fig, (ax1, ax2) = plt.subplots(1, 2)\n",
    "ax1.plot(poblacion['poblacion'], 'o')\n",
    "ax2.plot(poblacion_estimada['poblacion'])"
   ]
  },
  {
   "cell_type": "markdown",
   "metadata": {},
   "source": [
    "Finalmente podemos calcular el PIB real per cápita:"
   ]
  },
  {
   "cell_type": "code",
   "execution_count": 290,
   "metadata": {},
   "outputs": [],
   "source": [
    "# Unir los datos de población estimada a los del PIB anual\n",
    "pib_anual = pd.merge(pib_anual, poblacion_estimada, how='inner', on='periodo')\n",
    "\n",
    "# Calcular PIB anual per cápita y convertirlo de millones a miles:\n",
    "pib_anual['per_capita'] = (pib_anual['pib'] / pib_anual['poblacion']) * 1000"
   ]
  },
  {
   "cell_type": "code",
   "execution_count": 291,
   "metadata": {},
   "outputs": [
    {
     "data": {
      "text/plain": [
       "Text(0, 0.5, 'PIB per cápita ($K)')"
      ]
     },
     "execution_count": 291,
     "metadata": {},
     "output_type": "execute_result"
    },
    {
     "data": {
      "image/png": "[encoded data removed]",
      "text/plain": [
       "<Figure size 432x288 with 1 Axes>"
      ]
     },
     "metadata": {
      "needs_background": "light"
     },
     "output_type": "display_data"
    }
   ],
   "source": [
    "plt.plot(pib_anual['per_capita'])\n",
    "plt.xlabel('Periodo')\n",
    "plt.ylabel('PIB per cápita ($K)')"
   ]
  },
  {
   "cell_type": "code",
   "execution_count": 300,
   "metadata": {},
   "outputs": [
    {
     "data": {
      "text/plain": [
       "Text(0, 0.5, 'Crecimiento anual del PIB')"
      ]
     },
     "execution_count": 300,
     "metadata": {},
     "output_type": "execute_result"
    },
    {
     "data": {
      "image/png": "[encoded data removed]",
      "text/plain": [
       "<Figure size 432x288 with 1 Axes>"
      ]
     },
     "metadata": {
      "needs_background": "light"
     },
     "output_type": "display_data"
    }
   ],
   "source": [
    "# Tasa de crecimiento del PIB anual:\n",
    "pib_anual['pib_tasa'] = (pib_anual['pib'] - pib_anual['pib'].shift(1)) / pib_anual['pib'].shift(1)\n",
    "pib_anual['pib_tasa'].plot.bar()\n",
    "plt.xlabel('Periodo')\n",
    "plt.ylabel('Crecimiento anual del PIB')"
   ]
  },
  {
   "cell_type": "code",
   "execution_count": 299,
   "metadata": {},
   "outputs": [
    {
     "data": {
      "text/plain": [
       "Text(0, 0.5, 'Crecimiento del PIB c.r.a trimestre anterior')"
      ]
     },
     "execution_count": 299,
     "metadata": {},
     "output_type": "execute_result"
    },
    {
     "data": {
      "image/png": "[encoded data removed]",
      "text/plain": [
       "<Figure size 432x288 with 1 Axes>"
      ]
     },
     "metadata": {
      "needs_background": "light"
     },
     "output_type": "display_data"
    }
   ],
   "source": [
    "# Tasa de crecimiento del PIB trimestral, respecto al trimestre del año anterior\n",
    "pib_trimestral['pib_tasa'] = (pib_trimestral['pib'] - pib_trimestral['pib'].shift(4)) / pib_trimestral['pib'].shift(4)\n",
    "\n",
    "# Datos en formato largo:\n",
    "pib_trimestral_l = pib_trimestral.copy()\n",
    "pib_trimestral_l = pib_trimestral_l.pivot(columns = 'trimestre', values = 'pib_tasa')\n",
    "pib_trimestral_l.plot.bar()\n",
    "plt.xlabel('Periodo')\n",
    "plt.ylabel('Crecimiento del PIB c.r.a trimestre anterior')"
   ]
  },
  {
   "cell_type": "code",
   "execution_count": null,
   "metadata": {},
   "outputs": [],
   "source": []
  }
 ],
 "metadata": {
  "kernelspec": {
   "display_name": "Python 3",
   "language": "python",
   "name": "python3"
  },
  "language_info": {
   "codemirror_mode": {
    "name": "ipython",
    "version": 3
   },
   "file_extension": ".py",
   "mimetype": "text/x-python",
   "name": "python",
   "nbconvert_exporter": "python",
   "pygments_lexer": "ipython3",
   "version": "3.7.3"
  }
 },
 "nbformat": 4,
 "nbformat_minor": 4
}
