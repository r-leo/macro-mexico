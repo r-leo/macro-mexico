{
 "cells": [
  {
   "cell_type": "markdown",
   "metadata": {},
   "source": [
    "# Anexo técnico"
   ]
  },
  {
   "cell_type": "markdown",
   "metadata": {},
   "source": [
    "Este documento constituye la base sobre la que se construyeron las gráficas, estadísticas y proyecciones presentadas en la semana de estudios del 2021. Este archivo está escrito en Python con formato de Jupyter para facilitar la entrada y salida de los datos. El análisis de datos se lleva a cabo usando `pandas`. Los gráficos se producen directamente en el núcleo de Jupyter mediante `matplotlib`. Para ajustar modelos de regresión se utiliza `statsmodels`.\n",
    "\n",
    "Las bases de datos proceden en su mayor parte del INEGI. Los datos se leen de dichas bases de datos a partir de copias locales extraídas en noviembre y diciembre de 2020 directamente de las fuentes oficiales."
   ]
  },
  {
   "cell_type": "code",
   "execution_count": null,
   "metadata": {},
   "outputs": [],
   "source": [
    "# Importar paquetes requeridos\n",
    "import pandas as pd\n",
    "import numpy as np\n",
    "import matplotlib.pyplot as plt\n",
    "import matplotlib as matplotlib\n",
    "import statsmodels.formula.api as smf\n",
    "plt.close('all')\n",
    "\n",
    "# Configuración de los gráficos ('True' para alta resolución)\n",
    "calidad_publicacion = False\n",
    "\n",
    "if calidad_publicacion:\n",
    "    matplotlib.rcParams['figure.dpi']= 300\n",
    "else:\n",
    "    matplotlib.rcParams['figure.dpi']= 60\n",
    "\n",
    "%config InlineBackend.figure_format = 'retina'\n",
    "plt.style.use('seaborn-talk')"
   ]
  },
  {
   "cell_type": "markdown",
   "metadata": {},
   "source": [
    "## Análisis de las series anuales y trimestrales del PIB"
   ]
  },
  {
   "cell_type": "markdown",
   "metadata": {},
   "source": [
    "El primer análisis es el del producto interno bruto. Para ello empleamos la serie `pib_trimestral`, que contiene observaciones trimestrales del producto interno bruto a precios constantes (2013), desde el primer trimestre de 1993 hasta el tercer trimestre de 2020:"
   ]
  },
  {
   "cell_type": "code",
   "execution_count": null,
   "metadata": {
    "scrolled": true
   },
   "outputs": [],
   "source": [
    "# Cargar base de datos del PIB\n",
    "pib_trimestral = pd.read_excel('pib.xlsx', engine = 'openpyxl')\n",
    "pib_trimestral = pib_trimestral.set_index('periodo')\n",
    "\n",
    "pib_trimestral.head()"
   ]
  },
  {
   "cell_type": "markdown",
   "metadata": {},
   "source": [
    "La serie `pib_trimestral` contiene observaciones del PIB trimestral *anualizado* de México. Esto quiere decir que cada observación se debe dividir por 4 para obtener el PIB del trimestre. Por tanto, para obtener el PIB anual se debe calcular el promedio de los correspondientes valores trimestrales. Esta nueva serie se llama `pib_anual`:"
   ]
  },
  {
   "cell_type": "code",
   "execution_count": null,
   "metadata": {},
   "outputs": [],
   "source": [
    "# Agrupar por periodo y calcular la media:\n",
    "pib_anual = pib_trimestral.copy()\n",
    "pib_anual = pib_anual.groupby('periodo')\n",
    "pib_anual = pib_anual.mean()\n",
    "\n",
    "# Eliminar la columna 'trimestre' que ya no es necesaria:\n",
    "pib_anual.pop('trimestre')\n",
    "\n",
    "pib_anual.head()"
   ]
  },
  {
   "cell_type": "code",
   "execution_count": null,
   "metadata": {},
   "outputs": [],
   "source": [
    "plt.plot(pib_anual['pib'])\n",
    "plt.xlabel('Periodo')\n",
    "plt.ylabel('Producto interno bruto anual ($M)')\n",
    "plt.xlim(min(pib_anual.index),max(pib_anual.index))\n",
    "plt.axvline(x = 1994, color = 'r') # 1994\n",
    "plt.axvline(x = 2008, color = 'r') # 2008\n",
    "plt.axvline(x = 2019, color = 'r') # 2019\n",
    "plt.axvline(x = 2017, color = 'g') # Donald Trump (2017)\n",
    "plt.axvline(x = 2018, color = 'g') # López Obrador (2018)"
   ]
  },
  {
   "cell_type": "markdown",
   "metadata": {},
   "source": [
    "**Observaciones**:\n",
    "* Hay tres caídas significativas del PIB anual, en los siguientes años: 1994 (crisis del tequila), 2008 (crisis financiera de EEUU) y 2019 (coronavirus).\n",
    "* La magnitud de la recesión ocasionada por la pandemia del coronavirus es significativamente mayor que las otras dos.\n",
    "* La recesión del coronavirus fue precedida por un periodo de crecimiento nulo (ligeramente negativo de hecho), que coincide con el inicio del gobierno actual (2018, segunda línea verde). Observamos que incluso después de la toma de posesión de Donald Trump (2017, primera línea verde), el país experimentó un crecimiento a la misma tasa media que los años anteriores."
   ]
  },
  {
   "cell_type": "markdown",
   "metadata": {},
   "source": [
    "En general, pensamos que el crecimiento del PIB guarda una correlación positiva con el crecimiento de la población. Por eso, para utilizar el PIB como una medida del crecimiento económico más objetiva es útil eliminar este efecto calculando el PIB per cápita (notamos que puede haber crecimiento de población y contracción del producto simultáneamente en el corto plazo).\n",
    "\n",
    "Usaremos la serie `poblacion` que contiene información de la población de México registrada en los censos quinquenales:"
   ]
  },
  {
   "cell_type": "code",
   "execution_count": null,
   "metadata": {},
   "outputs": [],
   "source": [
    "# Cargar base de datos de la población\n",
    "poblacion = pd.read_excel('poblacion.xlsx', engine = 'openpyxl')\n",
    "poblacion = poblacion.set_index('periodo')\n",
    "plt.plot(poblacion['poblacion'], 'o')\n",
    "plt.xlabel('Periodo')\n",
    "plt.ylabel('Población')\n",
    "plt.xlim(min(poblacion.index),max(poblacion.index))"
   ]
  },
  {
   "cell_type": "markdown",
   "metadata": {},
   "source": [
    "Debido a que la información no es anual, es necesario estimar la población en los periodos intercensales. La forma más sencilla de hacerlo es mediante una estimación (interpolación) lineal entre los periodos censales. Dadas dos observaciones (en censos consecutivos) $p_t$ y $p_{t+k}$ de la población, la estimación para $p_r$ (donde $t \\leq r \\leq t+k$) estará dada por:\n",
    "\n",
    "$$p_r = p_t + \\frac{p_{t+k} - p_t}{k} (r-t)$$"
   ]
  },
  {
   "cell_type": "code",
   "execution_count": null,
   "metadata": {},
   "outputs": [],
   "source": [
    "# Límites para estimar la población\n",
    "periodo_inicial = min(poblacion.index)\n",
    "periodo_final = max(pib_anual.index)\n",
    "\n",
    "estimados = dict()\n",
    "\n",
    "# Algoritmo de estimación:\n",
    "for periodo in range(periodo_inicial, periodo_final + 1):\n",
    "    if periodo in poblacion.index:\n",
    "        estimados[periodo] = poblacion.loc[periodo].poblacion\n",
    "    else:\n",
    "        obs_1 = periodo\n",
    "        obs_2 = periodo\n",
    "        if periodo > max(poblacion.index):\n",
    "            obs_1 = max(poblacion.index[:-1])\n",
    "            obs_2 = max(poblacion.index)\n",
    "        else:\n",
    "            while obs_1 not in poblacion.index:\n",
    "                obs_1 = obs_1 -1\n",
    "            while obs_2 not in poblacion.index:\n",
    "                obs_2 = obs_2 + 1\n",
    "        estimacion = poblacion.loc[obs_1].poblacion + (poblacion.loc[obs_2].poblacion - poblacion.loc[obs_1].poblacion) / (obs_2 - obs_1) * (periodo - obs_1)\n",
    "        estimacion = int(estimacion)\n",
    "        estimados[periodo] = estimacion\n",
    "\n",
    "# Data frame final con las estimaciones:\n",
    "poblacion_estimada = pd.DataFrame({'periodo': estimados.keys(), 'poblacion': estimados.values()})\n",
    "poblacion_estimada = poblacion_estimada.set_index('periodo')"
   ]
  },
  {
   "cell_type": "markdown",
   "metadata": {},
   "source": [
    "Verificamos (gráficamente) que la estimación intercensal sea congruente con los datos"
   ]
  },
  {
   "cell_type": "code",
   "execution_count": null,
   "metadata": {},
   "outputs": [],
   "source": [
    "plt.plot(poblacion['poblacion'], 'o')\n",
    "plt.plot(poblacion_estimada['poblacion'])\n",
    "plt.legend(loc = 0, labels = ['Población observada (censal)', 'Población estimada (intercensal)'])\n",
    "plt.xlabel('Periodo')\n",
    "plt.ylabel('Población')"
   ]
  },
  {
   "cell_type": "markdown",
   "metadata": {},
   "source": [
    "Finalmente podemos calcular el PIB real per cápita:"
   ]
  },
  {
   "cell_type": "code",
   "execution_count": null,
   "metadata": {},
   "outputs": [],
   "source": [
    "# Unir los datos de población estimada a los del PIB anual\n",
    "pib_anual = pd.merge(pib_anual, poblacion_estimada, how='inner', on='periodo')\n",
    "\n",
    "# Calcular PIB anual per cápita y convertirlo de millones a miles:\n",
    "pib_anual['per_capita'] = (pib_anual['pib'] / pib_anual['poblacion']) * 1000"
   ]
  },
  {
   "cell_type": "code",
   "execution_count": null,
   "metadata": {},
   "outputs": [],
   "source": [
    "plt.plot(pib_anual['per_capita'])\n",
    "plt.xlabel('Periodo')\n",
    "plt.ylabel('PIB per cápita ($K)')\n",
    "plt.xlim(min(pib_anual.index),max(pib_anual.index))\n",
    "plt.axvline(x = 1994, color = 'r') # 1994\n",
    "plt.axvline(x = 2008, color = 'r') # 2008\n",
    "plt.axvline(x = 2019, color = 'r') # 2019\n",
    "plt.axvline(x = 2017, color = 'g') # Donald Trump (2017)\n",
    "plt.axvline(x = 2018, color = 'g') # López Obrador (2018)"
   ]
  },
  {
   "cell_type": "markdown",
   "metadata": {},
   "source": [
    "Observamos que en este gráfico aparece una nueva ligera recesión en el año 2000, que corresponde al efecto conjunto de la crisis punto com y un aumento moderado en la tasa de natalidad."
   ]
  },
  {
   "cell_type": "code",
   "execution_count": null,
   "metadata": {},
   "outputs": [],
   "source": [
    "# Tasa de crecimiento del PIB anual:\n",
    "pib_anual['pib_tasa'] = 100 * (pib_anual['pib'] - pib_anual['pib'].shift(1)) / pib_anual['pib'].shift(1)\n",
    "pib_anual['pib_tasa'].plot.bar()\n",
    "plt.xlabel('Periodo')\n",
    "plt.ylabel('Crecimiento anual del PIB (%)')\n",
    "plt.axhline(y = 0, linewidth = '0.7', color = 'k')"
   ]
  },
  {
   "cell_type": "markdown",
   "metadata": {},
   "source": [
    "En esta gráfica podemos apreciar la magnitud de los decrecimientos: la crisis del coronavirus ha provocado un descenso del 10% anual en el PIB en 2020, prácticamente el doble que en las crisis anteriores."
   ]
  },
  {
   "cell_type": "code",
   "execution_count": null,
   "metadata": {},
   "outputs": [],
   "source": [
    "# Tasa de crecimiento del PIB trimestral:\n",
    "pib_trimestral['pib_tasa'] = 100 * (pib_trimestral['pib'] - pib_trimestral['pib'].shift(4)) / pib_trimestral['pib'].shift(4)\n",
    "pib_trimestral['pib_tasa_continua'] = 100 * (pib_trimestral['pib'] - pib_trimestral['pib'].shift(1)) / pib_trimestral['pib'].shift(1)\n",
    "\n",
    "# Datos en formato largo\n",
    "pib_trimestral_l = pib_trimestral.copy()\n",
    "pib_trimestral_l = pib_trimestral_l.pivot(columns = 'trimestre', values = ['pib', 'pib_tasa', 'pib_tasa_continua'])"
   ]
  },
  {
   "cell_type": "code",
   "execution_count": null,
   "metadata": {},
   "outputs": [],
   "source": [
    "pib_trimestral_l['pib_tasa_continua'].plot.bar()\n",
    "plt.xlabel('Periodo')\n",
    "plt.ylabel('Crecimiento del PIB trimestral r/a anterior (%)')\n",
    "plt.axhline(y = 0, linewidth = '0.7', color = 'k')\n",
    "plt.legend(title = 'Trimestre', loc = 0)"
   ]
  },
  {
   "cell_type": "markdown",
   "metadata": {},
   "source": [
    "Si bien el producto continúa en niveles bajos, observamos que el tercer trimestre de 2020 hubo un crecimiento del 10% respecto al segundo trimestre, lo que puede indicar el inicio de la recuperación. Sin embargo, los efectos a largo plazo pueden ser profundos."
   ]
  },
  {
   "cell_type": "markdown",
   "metadata": {},
   "source": [
    "## Análisis de las series compuestas del PIB (componentes de la demanda agregada)"
   ]
  },
  {
   "cell_type": "markdown",
   "metadata": {},
   "source": [
    "Para un análisis más detallado, es útil considerar la descomposición del producto en sus respectivos componentes de demanda: consumo privado, gasto público, inversión (formación de capital fijo más variación de inventarios) y exportaciones netas (exportaciones menos importaciones). Para este análisis usamos la base de datos de oferta y utilización trimestral. Esta base no incluye la observación correspondiente al tercer trimestre del 2020."
   ]
  },
  {
   "cell_type": "code",
   "execution_count": null,
   "metadata": {},
   "outputs": [],
   "source": [
    "# Cargar base de datos del PIB compuesto\n",
    "pibc_trimestral = pd.read_excel('pib_comp.xlsx', engine = 'openpyxl')\n",
    "pibc_trimestral = pibc_trimestral.set_index('periodo')\n",
    "\n",
    "pibc_trimestral.head()"
   ]
  },
  {
   "cell_type": "markdown",
   "metadata": {},
   "source": [
    "Igual que en el caso del PIB sin componer, calculamos el producto anual:"
   ]
  },
  {
   "cell_type": "code",
   "execution_count": null,
   "metadata": {},
   "outputs": [],
   "source": [
    "# Agrupar por periodo y calcular la media\n",
    "pibc_anual = pibc_trimestral.copy()\n",
    "pibc_anual = pibc_anual.groupby('periodo')\n",
    "pibc_anual = pibc_anual.mean()\n",
    "\n",
    "# Eliminar la columna 'trimestre' que ya no es necesaria\n",
    "pibc_anual.pop('trimestre')\n",
    "\n",
    "pibc_anual.head()"
   ]
  },
  {
   "cell_type": "markdown",
   "metadata": {},
   "source": [
    "Si el cálculo es correcto esperamos que se cumpla la identidad contable:\n",
    "\n",
    "$$ Y = C + I + G + EX - IM + \\epsilon$$\n",
    "\n",
    "donde $Y$ es el PIB (del lado de la oferta), mientras que el lado de la demanda es la suma del consumo ($C$), la inversión ($I$), el gasto público ($G$), las exportaciones ($EX$), las importaciones ($IM$) y la llamada \"discrepancia estadística\" $\\epsilon$. Verificamos que sea así:"
   ]
  },
  {
   "cell_type": "code",
   "execution_count": null,
   "metadata": {},
   "outputs": [],
   "source": [
    "# Obtener la suma de los componentes del lado de la demanda\n",
    "oferta = pibc_anual['consumo'] + pibc_anual['inversion'] + pibc_anual['gasto'] + pibc_anual['exportaciones'] - pibc_anual['importaciones'] + pibc_anual['discrepancia']\n",
    "\n",
    "# Obtener la diferencia entre el PIB (oferta) y la demanda, que debe ser cero:\n",
    "diferencia = round(pibc_anual['pib'] - oferta)\n",
    "\n",
    "# Diferencia máxima y mínima:\n",
    "(max(diferencia), min(diferencia))"
   ]
  },
  {
   "cell_type": "markdown",
   "metadata": {},
   "source": [
    "Como las diferencias máxima y mínima son ambas cero, entonces todas las observaciones de la base de datos cumplen la identidad contable anterior. Por lo tanto el cálculo del PIB anual es correcto. A continuación calculamos las tasas de crecimiento del PIB y cada uno de sus componentes:"
   ]
  },
  {
   "cell_type": "code",
   "execution_count": null,
   "metadata": {},
   "outputs": [],
   "source": [
    "# Tasa de crecimiento de los componentes del PIB trimestral, respecto al trimestre del año anterior\n",
    "pibc_trimestral['pib_tasa'] = (pibc_trimestral['pib'] - pibc_trimestral['pib'].shift(4)) / pibc_trimestral['pib'].shift(4)\n",
    "pibc_trimestral['importaciones_tasa'] = 100 * (pibc_trimestral['importaciones'] - pibc_trimestral['importaciones'].shift(1)) / pibc_trimestral['importaciones'].shift(1)\n",
    "pibc_trimestral['consumo_tasa'] = 100 * (pibc_trimestral['consumo'] - pibc_trimestral['consumo'].shift(1)) / pibc_trimestral['consumo'].shift(1)\n",
    "pibc_trimestral['gasto_tasa'] = 100 * (pibc_trimestral['gasto'] - pibc_trimestral['gasto'].shift(1)) / pibc_trimestral['gasto'].shift(1)\n",
    "pibc_trimestral['inversion_tasa'] = 100 * (pibc_trimestral['inversion'] - pibc_trimestral['inversion'].shift(1)) / pibc_trimestral['inversion'].shift(1)\n",
    "pibc_trimestral['exportaciones_tasa'] = 100 * (pibc_trimestral['exportaciones'] - pibc_trimestral['exportaciones'].shift(1)) / pibc_trimestral['exportaciones'].shift(1)\n",
    "\n",
    "# Datos del PIB trimestral en formato largo\n",
    "pibc_trimestral_l = pibc_trimestral.copy()\n",
    "pibc_trimestral_l = pibc_trimestral_l.pivot(columns = 'trimestre',\n",
    "                                            values = ['pib_tasa', 'importaciones_tasa', 'consumo_tasa', 'gasto_tasa' , 'inversion_tasa', 'exportaciones_tasa'])\n",
    "\n",
    "# Cálculo de las tasas de crecimiento de los componentes del PIB anual:\n",
    "pibc_anual['importaciones_tasa'] = 100 * (pibc_anual['importaciones'] - pibc_anual['importaciones'].shift(1)) / pibc_anual['importaciones'].shift(1)\n",
    "pibc_anual['consumo_tasa'] = 100 * (pibc_anual['consumo'] - pibc_anual['consumo'].shift(1)) / pibc_anual['consumo'].shift(1)\n",
    "pibc_anual['gasto_tasa'] = 100 * (pibc_anual['gasto'] - pibc_anual['gasto'].shift(1)) / pibc_anual['gasto'].shift(1)\n",
    "pibc_anual['inversion_tasa'] = 100 * (pibc_anual['inversion'] - pibc_anual['inversion'].shift(1)) / pibc_anual['inversion'].shift(1)\n",
    "pibc_anual['exportaciones_tasa'] = 100 * (pibc_anual['exportaciones'] - pibc_anual['exportaciones'].shift(1)) / pibc_anual['exportaciones'].shift(1)"
   ]
  },
  {
   "cell_type": "code",
   "execution_count": null,
   "metadata": {},
   "outputs": [],
   "source": [
    "pibc_trimestral_l['pib_tasa'].plot.bar()\n",
    "plt.xlabel('Periodo')\n",
    "plt.ylabel('Crecimiento del PIB anual (vs. trimestre anterior, %)')\n",
    "plt.legend(title = 'Trimestre', loc = 0)\n",
    "plt.axhline(y = 0, linewidth = '0.7', color = 'k')"
   ]
  },
  {
   "cell_type": "code",
   "execution_count": null,
   "metadata": {},
   "outputs": [],
   "source": [
    "pibc_trimestral_l['consumo_tasa'].plot.bar()\n",
    "plt.xlabel('Periodo')\n",
    "plt.ylabel('Crecimiento del consumo anual (vs. trimestre anterior, %)')\n",
    "plt.legend(title = 'Trimestre', loc = 0)\n",
    "plt.axhline(y = 0, linewidth = '0.7', color = 'k')"
   ]
  },
  {
   "cell_type": "code",
   "execution_count": null,
   "metadata": {},
   "outputs": [],
   "source": [
    "pibc_trimestral_l['inversion_tasa'].plot.bar()\n",
    "plt.xlabel('Periodo')\n",
    "plt.ylabel('Crecimiento de la inversión anual (vs. trimestre anterior, %)')\n",
    "plt.legend(title = 'Trimestre', loc = 0)\n",
    "plt.axhline(y = 0, linewidth = '0.7', color = 'k')"
   ]
  },
  {
   "cell_type": "code",
   "execution_count": null,
   "metadata": {},
   "outputs": [],
   "source": [
    "pibc_trimestral_l['gasto_tasa'].plot.bar()\n",
    "plt.xlabel('Periodo')\n",
    "plt.ylabel('Crecimiento del gasto público anual (vs. trimestre anterior, %)')\n",
    "plt.legend(title = 'Trimestre', loc = 0)\n",
    "plt.axhline(y = 0, linewidth = '0.7', color = 'k')"
   ]
  },
  {
   "cell_type": "markdown",
   "metadata": {},
   "source": [
    "Finalmente, la pregunta a responder es la siguiente: ¿qué componentes explican mayoritariamente la variación del PIB, especialmente los movimientos recesivos recientes?"
   ]
  },
  {
   "cell_type": "code",
   "execution_count": null,
   "metadata": {},
   "outputs": [],
   "source": [
    "pibc_anual[['consumo_tasa', 'inversion_tasa', 'gasto_tasa']].plot.bar()\n",
    "plt.legend(title = 'Tasas de crecimiento por componente', loc = 0, labels = ['Consumo', 'Inversión', 'Gasto'])\n",
    "plt.axhline(y = 0, linewidth = '0.7', color = 'k')\n",
    "plt.xlabel('Periodo')\n",
    "plt.ylabel('Tasa de crecimiento anual del PIB (por componente)')"
   ]
  },
  {
   "cell_type": "markdown",
   "metadata": {},
   "source": [
    "## Análisis de las series de desocupación y población económicamente activa"
   ]
  },
  {
   "cell_type": "markdown",
   "metadata": {},
   "source": [
    "El primer objetivo consiste en buscar una relación análoga a la ley de Okun: tratamos de verificar si en México se observa una correlación negativa entre el producto y el nivel de desempleo. Las bases de datos proceden de la ENOE. El primer paso será expresar las tasas de desempleo (que se encuentran de forma mensual) como tasas trimestrales, para compararlas con la serie del PIB trimestral."
   ]
  },
  {
   "cell_type": "code",
   "execution_count": null,
   "metadata": {},
   "outputs": [],
   "source": [
    "# Cargar base de datos de desocupación (desempleo)\n",
    "desempleo = pd.read_excel('desocupacion.xlsx', engine = 'openpyxl')\n",
    "\n",
    "desempleo.head()"
   ]
  },
  {
   "cell_type": "code",
   "execution_count": null,
   "metadata": {},
   "outputs": [],
   "source": [
    "# Función para convertir de mes a trimestre\n",
    "def mes_a_trimestre(fila):\n",
    "    if fila['mes'] in (1, 2, 3):\n",
    "        return 1\n",
    "    elif fila['mes'] in (4, 5, 6):\n",
    "        return 2\n",
    "    elif fila['mes'] in (7, 8, 9):\n",
    "        return 3\n",
    "    elif fila['mes'] in (10, 11, 12):\n",
    "        return 4\n",
    "    else:\n",
    "        return 0\n",
    "\n",
    "# Insertar columna con el trimestre\n",
    "desempleo['trimestre'] = desempleo.apply(mes_a_trimestre, axis = 1)\n",
    "\n",
    "# Calcular la tasa media de desempleo por trimestre\n",
    "periodo_i = min(desempleo['periodo'])\n",
    "periodo_f = max(desempleo['periodo'])\n",
    "\n",
    "periodos = []\n",
    "trimestres = []\n",
    "tasas = []\n",
    "\n",
    "for periodo in range(periodo_i, periodo_f + 1):\n",
    "    trimestre_i = min(desempleo.query(f'periodo == {periodo}')['trimestre'])\n",
    "    trimestre_f = max(desempleo.query(f'periodo == {periodo}')['trimestre'])\n",
    "    for trimestre in range(trimestre_i, trimestre_f + 1):\n",
    "        periodos.append(periodo)\n",
    "        trimestres.append(trimestre)\n",
    "        tasas.append(np.mean(desempleo.query(f'periodo == {periodo} & trimestre == {trimestre}')['desocupacion']))\n",
    "\n",
    "# Guardar en un data frame nuevo\n",
    "desempleo_trimestral = pd.DataFrame({'periodo': periodos, 'trimestre': trimestres, 'desocupacion': tasas})\n",
    "desempleo_trimestral = desempleo_trimestral.set_index('periodo')\n",
    "\n",
    "# Calcular tasas de cambio de la tasa de desempleo\n",
    "desempleo_trimestral['desocupacion_tasa'] = 100 * (desempleo_trimestral['desocupacion'] - desempleo_trimestral['desocupacion'].shift(4)) / desempleo_trimestral['desocupacion'].shift(4)\n",
    "desempleo_trimestral['desocupacion_tasa_continua'] = 100 * (desempleo_trimestral['desocupacion'] - desempleo_trimestral['desocupacion'].shift(1)) / desempleo_trimestral['desocupacion'].shift(1)\n",
    "\n",
    "# Nuevo data frame con la información del PIB y el desempleo\n",
    "mexico = pd.merge(desempleo_trimestral, pib_trimestral, how = 'inner', on = ['periodo', 'trimestre'])\n",
    "mexico = mexico.set_index('trimestre', append = True)"
   ]
  },
  {
   "cell_type": "code",
   "execution_count": null,
   "metadata": {},
   "outputs": [],
   "source": [
    "mexico.plot.scatter(x = 'desocupacion_tasa_continua', y = 'pib_tasa_continua')\n",
    "plt.xlabel('Crecimiento de la tasa de desempleo trimestral (%)')\n",
    "plt.ylabel('Crecimiento del PIB trimestral (%)')\n",
    "plt.axhline(y = 0, linewidth = '0.7', color = 'k')\n",
    "plt.axvline(x = 0, linewidth = '0.7', color = 'k')"
   ]
  },
  {
   "cell_type": "markdown",
   "metadata": {},
   "source": [
    "La mayor densidad de puntos en los cuadrantes I y III indica una relación negativa, (no necesariamente lineal ni perfectamente continua) entre el PIB y el desempleo. Esta es la llamada \"ley de Okun\"."
   ]
  },
  {
   "cell_type": "code",
   "execution_count": null,
   "metadata": {},
   "outputs": [],
   "source": [
    "mexico['pib'].plot()\n",
    "plt.ylabel('Producto interno bruto trimestral ($M)')\n",
    "mexico['desocupacion'].plot(secondary_y = True)\n",
    "plt.ylabel('Tasa de desempleo trimestral (%)')\n",
    "plt.axvline(x = mexico.index.get_loc((2008,4)), color = 'r') # 2008\n",
    "plt.axvline(x = mexico.index.get_loc((2019,4)), color = 'r') # 2019\n",
    "plt.axvline(x = mexico.index.get_loc((2018,4)), color = 'g') # López Obrador (2018)"
   ]
  },
  {
   "cell_type": "markdown",
   "metadata": {},
   "source": [
    "**Observaciones**\n",
    "* Las crisis de 2008 y 2019 muestran elevaciones muy significativas en el nivel de desempleo.\n",
    "* La tasa de desempleo se encontraba descendiendo desde su nivel máximo en el tercer trimestre de 2009 (6%) hasta el inicio del año 2020, donde creció de un nivel debajo del 3.5% a ubicarse encima del 5%.\n",
    "* Los datos de la ENOE están disponibles hasta octubre de 2020, por lo que no conocemos aún la tasa de desempleo de los últimos dos meses del año."
   ]
  },
  {
   "cell_type": "code",
   "execution_count": null,
   "metadata": {},
   "outputs": [],
   "source": [
    "# Ajustar modelo de regresión del crecimiento de la tasa de desempleo trimestral sobre la tasa de crecimiento del PIB trimestral\n",
    "modelo_okun = smf.ols('desocupacion_tasa_continua ~pib_tasa_continua', data = mexico)\n",
    "modelo_okun = modelo_okun.fit()\n",
    "\n",
    "print(modelo_okun.summary())"
   ]
  },
  {
   "cell_type": "markdown",
   "metadata": {},
   "source": [
    "Una regresión simple muestra que por cada punto porcentual que disminuye la tasa de crecimiento del PIB, la tasa de desempleo disminuye en 1.5 puntos porcentuales."
   ]
  },
  {
   "cell_type": "code",
   "execution_count": null,
   "metadata": {},
   "outputs": [],
   "source": [
    "mexico['desocupacion'].plot()\n",
    "plt.xlabel('Periodo')\n",
    "plt.ylabel('Tasa de desempleo trimestral (%)')\n",
    "plt.axvline(x = mexico.index.get_loc((2008,4)), color = 'r') # 2008\n",
    "plt.axvline(x = mexico.index.get_loc((2019,4)), color = 'r') # 2019\n",
    "plt.axvline(x = mexico.index.get_loc((2018,4)), color = 'g') # López Obrador (2018)\n",
    "plt.axhline(y = np.mean(mexico['desocupacion']), linewidth = '1.0', color = 'grey')"
   ]
  },
  {
   "cell_type": "markdown",
   "metadata": {},
   "source": [
    "## Análisis de la medida de pobreza multidimensional"
   ]
  },
  {
   "cell_type": "code",
   "execution_count": null,
   "metadata": {},
   "outputs": [],
   "source": [
    "# Cargar base de datos del CONEVAL (desempleo)\n",
    "pobreza = pd.read_excel('pobreza.xlsx', engine = 'openpyxl')\n",
    "pobreza = pobreza.set_index('periodo')\n",
    "\n",
    "pobreza.head()"
   ]
  },
  {
   "cell_type": "markdown",
   "metadata": {},
   "source": [
    "Buscamos encontrar una relación entre la pobreza multidimensional medida por el CONEVAL y la evolución del PIB anual."
   ]
  },
  {
   "cell_type": "code",
   "execution_count": null,
   "metadata": {},
   "outputs": [],
   "source": [
    "# Unir data frames de pobreza y PIB anual\n",
    "pobreza = pd.merge(pobreza, pib_anual, how = 'inner', on = 'periodo')"
   ]
  },
  {
   "cell_type": "code",
   "execution_count": null,
   "metadata": {},
   "outputs": [],
   "source": [
    "pobreza['pobreza'].plot(ylim = (40, 60))\n",
    "plt.ylabel('Personas en pobreza (M)')\n",
    "pobreza['pib'].plot(secondary_y = True)\n",
    "plt.ylabel('Producto interno bruto anual ($M)')"
   ]
  },
  {
   "cell_type": "markdown",
   "metadata": {},
   "source": [
    "Observamos que no hay relación aparente entre el PIB y la cantidad de personas pobres. Es importante considerar el factor demográfico, por lo que buscaremos si hay una relación corrigiendo por el crecimiento poblacional, relacionando la *proporción* de personas pobres y el PIB *per cápita*."
   ]
  },
  {
   "cell_type": "code",
   "execution_count": null,
   "metadata": {},
   "outputs": [],
   "source": [
    "pobreza['pobreza_p'].plot(ylim = (40, 50))\n",
    "plt.ylabel('Personas en pobreza (% población total)')\n",
    "pobreza['per_capita'].plot(secondary_y = True)\n",
    "plt.ylabel('Producto interno bruto anual per cápita ($K)')"
   ]
  },
  {
   "cell_type": "markdown",
   "metadata": {},
   "source": [
    "Al corregir por el tamaño de la población, una relación negativa entre PIB y pobreza se vuelve aparente. Una gráfica de dispersión lo hace más evidente:"
   ]
  },
  {
   "cell_type": "code",
   "execution_count": null,
   "metadata": {},
   "outputs": [],
   "source": [
    "pobreza.plot.scatter(x = 'per_capita', y = 'pobreza_p')"
   ]
  },
  {
   "cell_type": "markdown",
   "metadata": {},
   "source": [
    "A continuación estimamos una regresión lineal simple mediante mínimos cuadrados ordinarios de la proporción de población en pobreza sobre el PIB per cápita:"
   ]
  },
  {
   "cell_type": "code",
   "execution_count": null,
   "metadata": {},
   "outputs": [],
   "source": [
    "# Ajustar modelo de regresión del porcentaje de población en pobreza sobre el PIB per cápita\n",
    "modelo_pobreza = smf.ols('pobreza_p ~ per_capita', data = pobreza)\n",
    "modelo_pobreza = modelo_pobreza.fit()\n",
    "\n",
    "print(modelo_pobreza.summary())"
   ]
  },
  {
   "cell_type": "markdown",
   "metadata": {},
   "source": [
    "Empleando la regresión, proyectamos la proporción de población en pobreza estimada para 2020:"
   ]
  },
  {
   "cell_type": "code",
   "execution_count": null,
   "metadata": {},
   "outputs": [],
   "source": [
    "# Nuevo data frame para proyección de pobreza en 2020\n",
    "pobreza_ext = pobreza.copy()\n",
    "pobreza_ext = pobreza_ext[['pobreza_p', 'per_capita']]\n",
    "\n",
    "# Proyección de pobreza para 2020\n",
    "pib_2020 = pib_anual.query('periodo == 2020')['per_capita'][2020]\n",
    "pobreza_2020 = modelo_pobreza.params['per_capita'] * pib_2020 + modelo_pobreza.params['Intercept']\n",
    "\n",
    "# Añadir al data frame\n",
    "pobreza_ext = pobreza_ext.append(pd.DataFrame({'per_capita': {2020: pib_2020}, 'pobreza_p': {2020: pobreza_2020}}))"
   ]
  },
  {
   "cell_type": "code",
   "execution_count": null,
   "metadata": {},
   "outputs": [],
   "source": [
    "pobreza_ext.loc[:2018]['pobreza_p'].plot(ylim = (40, 50))\n",
    "pobreza_ext.loc[2018:2020]['pobreza_p'].plot(ylim = (40, 50), style = \":k\")\n",
    "plt.axhline(y = pobreza_2020, linewidth = '1.0', color = 'grey')\n",
    "plt.xlabel('Periodo')\n",
    "plt.ylabel('Personas en pobreza (% población total)')\n",
    "pobreza_ext['per_capita'].plot(secondary_y = True)\n",
    "plt.ylabel('Producto interno bruto anual per cápita ($K)')"
   ]
  },
  {
   "cell_type": "code",
   "execution_count": null,
   "metadata": {},
   "outputs": [],
   "source": [
    "# Calcular cambios intertemporales\n",
    "pobreza['pobreza_c'] = pobreza['pobreza'] - pobreza['pobreza'].shift(1)\n",
    "pobreza['pobrezam_c'] = pobreza['pobrezam'] - pobreza['pobrezam'].shift(1)\n",
    "pobreza['pobrezae_c'] = pobreza['pobrezae'] - pobreza['pobrezae'].shift(1)"
   ]
  },
  {
   "cell_type": "code",
   "execution_count": null,
   "metadata": {},
   "outputs": [],
   "source": [
    "pobreza"
   ]
  },
  {
   "cell_type": "code",
   "execution_count": null,
   "metadata": {},
   "outputs": [],
   "source": [
    "pobreza[['pobrezam', 'pobrezae']].plot.bar(stacked = True)\n",
    "plt.legend(title = 'Personas en pobreza', loc = 3, labels = ['Moderada', 'Extrema'])\n",
    "plt.xlabel('Periodo')\n",
    "plt.ylabel('Personas (M)')"
   ]
  },
  {
   "cell_type": "code",
   "execution_count": null,
   "metadata": {},
   "outputs": [],
   "source": [
    "pobreza[['pobrezam_p', 'pobrezae_p']].plot.bar(stacked = True)\n",
    "plt.legend(title = 'Porcentaje de población en pobreza', loc = 3, labels = ['Moderada', 'Extrema'])\n",
    "plt.xlabel('Periodo')\n",
    "plt.ylabel('Porcentaje de población (%)')"
   ]
  },
  {
   "cell_type": "code",
   "execution_count": null,
   "metadata": {},
   "outputs": [],
   "source": [
    "pd.DataFrame(pobreza.query(\"periodo > 2008\")[['pobrezam_c', 'pobrezae_c']]).plot.bar()\n",
    "plt.legend(title = 'Personas en pobreza', loc = 0, labels = ['Moderada', 'Extrema'])\n",
    "plt.axhline(y = 0, linewidth = '0.7', color = 'k')\n",
    "plt.xlabel('Periodo')\n",
    "plt.ylabel('Personas respecto al año anterior (M)')"
   ]
  },
  {
   "cell_type": "code",
   "execution_count": null,
   "metadata": {},
   "outputs": [],
   "source": [
    "pobreza.columns"
   ]
  },
  {
   "cell_type": "code",
   "execution_count": null,
   "metadata": {},
   "outputs": [],
   "source": [
    "pobreza[['vivienda_p', 'servicios_p']].plot.bar(legend = False)\n",
    "plt.xlabel('Periodo')\n",
    "plt.ylabel('Proporción de la población con carencias (%)')"
   ]
  },
  {
   "cell_type": "code",
   "execution_count": null,
   "metadata": {},
   "outputs": [],
   "source": [
    "pobreza[['rezago_p', 'salud_p', 'ss_p']].plot.bar(legend = False)\n",
    "plt.xlabel('Periodo')\n",
    "plt.ylabel('Proporción de la población con carencias (%)')"
   ]
  },
  {
   "cell_type": "markdown",
   "metadata": {},
   "source": [
    "## Análisis de las características de los hogares"
   ]
  },
  {
   "cell_type": "code",
   "execution_count": null,
   "metadata": {},
   "outputs": [],
   "source": [
    "# (!) NOTA\n",
    "#     En esta celda se cargan microdatos de la ENIGH; puede tardar algunos minutos en ejecutarse debido al tamaño del archivo.\n",
    "\n",
    "# Cargar base de microdatos de características de los hogares de la ENIGH 2018\n",
    "enigh18 = pd.read_excel('hogares_enigh_2018.xlsx', engine = 'openpyxl')"
   ]
  },
  {
   "cell_type": "code",
   "execution_count": null,
   "metadata": {},
   "outputs": [],
   "source": [
    "# Eliminar espacios erróneos en la base de datos\n",
    "for columna in enigh18.columns:\n",
    "    enigh18[columna] = enigh18[columna].replace(' ', '')\n",
    "    enigh18[columna] = pd.to_numeric(enigh18[columna])"
   ]
  },
  {
   "cell_type": "code",
   "execution_count": null,
   "metadata": {},
   "outputs": [],
   "source": [
    "# Cargar diccionario de datos para interpretar las preguntas de los microdatos\n",
    "diccionario_hogares = pd.read_excel('diccionario_hogares_enigh_2018.xlsx', engine = 'openpyxl')"
   ]
  },
  {
   "cell_type": "code",
   "execution_count": null,
   "metadata": {},
   "outputs": [],
   "source": [
    "# Determinar el tamaño de la muestra de la ENIGH\n",
    "muestra_enigh = len(enigh18.query(\"foliohog != ''\"))"
   ]
  },
  {
   "cell_type": "code",
   "execution_count": null,
   "metadata": {},
   "outputs": [],
   "source": [
    "# Estimación del número de hogares en 2018\n",
    "\n",
    "# Cargar base de datos de hogares censales\n",
    "hogares = pd.read_excel('hogares.xlsx', engine = 'openpyxl')\n",
    "\n",
    "hogares.plot.scatter(x = 'periodo', y = 'hogares', style = '-g')\n",
    "plt.xlabel('Periodo')\n",
    "plt.ylabel('Número de hogares')"
   ]
  },
  {
   "cell_type": "code",
   "execution_count": null,
   "metadata": {},
   "outputs": [],
   "source": [
    "modelo_hogares = smf.ols('hogares ~ periodo', data = hogares)\n",
    "modelo_hogares = modelo_hogares.fit()\n",
    "\n",
    "print(modelo_pobreza.summary())"
   ]
  },
  {
   "cell_type": "code",
   "execution_count": null,
   "metadata": {},
   "outputs": [],
   "source": [
    "# Hogares proyectados para 2018\n",
    "hogares_2018 = 2018 * modelo_hogares.params['periodo'] + modelo_hogares.params['Intercept']\n",
    "hogares_2018 = round(hogares_2018)\n",
    "\n",
    "print(hogares_2018)"
   ]
  },
  {
   "cell_type": "code",
   "execution_count": null,
   "metadata": {},
   "outputs": [],
   "source": [
    "# Análisis de variables binarias\n",
    "for i in diccionario_hogares.query(\"tipo == 'bin'\").index:\n",
    "    print(diccionario_hogares.query(\"tipo == 'bin'\").loc[i]['descripcion'])\n",
    "    nombre_variable = diccionario_hogares.query(\"tipo == 'bin'\").loc[i]['variable']\n",
    "    positivos = len(enigh18.query(nombre_variable + \" == 1\"))\n",
    "    negativos = len(enigh18.query(nombre_variable + \" == 2\"))\n",
    "    resultado_global = round(100 * positivos / muestra_enigh, 2)\n",
    "    resultado_local = round(100 * positivos / (positivos + negativos), 2)\n",
    "    print('Porcentajes: ' + str(resultado_global) + '(sobre el total) - ' + str(resultado_local) + ' (sobre lo respondido)')\n",
    "    print('Valores absolutos: ' + str(hogares_2018 * resultado_global / 100) + '(sobre el total) - ' + str(hogares_2018 * resultado_local / 100) + ' (sobre lo respondido)\\n')"
   ]
  },
  {
   "cell_type": "code",
   "execution_count": null,
   "metadata": {},
   "outputs": [],
   "source": [
    "# Análisis de variables numéricas\n",
    "for i in diccionario_hogares.query(\"tipo == 'num'\").index:\n",
    "    print(diccionario_hogares.query(\"tipo == 'num'\").loc[i]['descripcion'])\n",
    "    nombre_variable = diccionario_hogares.query(\"tipo == 'num'\").loc[i]['variable']\n",
    "    minimo = np.min(enigh18[nombre_variable])\n",
    "    maximo = np.max(enigh18[nombre_variable])\n",
    "    media = round(np.mean(enigh18[nombre_variable]), 2)\n",
    "    print('Mínimo: ' + str(minimo) + ' / Máximo: ' + str(maximo) + ' / Media: ' + str(media) + '\\n')"
   ]
  },
  {
   "cell_type": "markdown",
   "metadata": {},
   "source": [
    "## Análisis de la distribución de los ingresos"
   ]
  },
  {
   "cell_type": "code",
   "execution_count": null,
   "metadata": {},
   "outputs": [],
   "source": [
    "# Cargar base de datos de participación del 1% más rico en el ingreso nacional\n",
    "percentil_1_internacional = pd.read_excel('percentil_1_internacional.xlsx', engine = 'openpyxl')\n",
    "percentil_1_internacional = percentil_1_internacional.set_index('pais')"
   ]
  },
  {
   "cell_type": "code",
   "execution_count": null,
   "metadata": {},
   "outputs": [],
   "source": [
    "percentil_1_internacional['participacion'].plot.barh()\n",
    "plt.xlabel('Participación del 1% más rico en el ingreso nacional (%)')\n",
    "plt.ylabel('País')"
   ]
  },
  {
   "cell_type": "code",
   "execution_count": null,
   "metadata": {},
   "outputs": [],
   "source": [
    "percentil_1_internacional['per_capita'].plot.barh()\n",
    "plt.xlabel('PIB per cápita ($USD con PPP de 2010)')\n",
    "plt.ylabel('País')"
   ]
  },
  {
   "cell_type": "code",
   "execution_count": null,
   "metadata": {},
   "outputs": [],
   "source": [
    "# Cargar base de datos de países y regiones seleccionadas de la World Income Database\n",
    "wid = pd.read_excel('wid.xlsx', engine = 'openpyxl')\n",
    "wid = wid.set_index('year')\n",
    "\n",
    "# Convertir en porcentajes\n",
    "for col in wid.columns:\n",
    "    wid[col] = 100 * wid[col]"
   ]
  },
  {
   "cell_type": "code",
   "execution_count": null,
   "metadata": {},
   "outputs": [],
   "source": [
    "wid[['world_0_50', 'world_50_90', 'world_90_100']].plot.bar(stacked = True)\n",
    "plt.xlabel('Periodo')\n",
    "plt.ylabel('Proporción de la participación en el PIB (Mundial)')\n",
    "plt.legend(loc = 2, labels = ['Percentiles 0 - 50', 'Percentiles 50 - 90', 'Percentiles 90 - 100'])"
   ]
  },
  {
   "cell_type": "code",
   "execution_count": null,
   "metadata": {},
   "outputs": [],
   "source": [
    "wid[['latam_0_50', 'latam_50_90', 'latam_90_100']].plot.bar(stacked = True)\n",
    "plt.xlabel('Periodo')\n",
    "plt.ylabel('Proporción de la participación en el PIB (Latinoamérica)')\n",
    "plt.legend(loc = 2, labels = ['Percentiles 0 - 50', 'Percentiles 50 - 90', 'Percentiles 90 - 100'])"
   ]
  },
  {
   "cell_type": "code",
   "execution_count": null,
   "metadata": {},
   "outputs": [],
   "source": [
    "wid[['mexico_0_50', 'mexico_50_90', 'mexico_90_100']].plot.bar(stacked = True)\n",
    "plt.xlabel('Periodo')\n",
    "plt.ylabel('Proporción de la participación en el PIB (México)')\n",
    "plt.legend(loc = 2, labels = ['Percentiles 0 - 50', 'Percentiles 50 - 90', 'Percentiles 90 - 100'])"
   ]
  },
  {
   "cell_type": "code",
   "execution_count": null,
   "metadata": {},
   "outputs": [],
   "source": [
    "wid[['eeuu_0_50', 'eeuu_50_90', 'eeuu_90_100']].plot.bar(stacked = True)\n",
    "plt.xlabel('Periodo')\n",
    "plt.ylabel('Proporción de la participación en el PIB (EEUU)')\n",
    "plt.legend(loc = 2, labels = ['Percentiles 0 - 50', 'Percentiles 50 - 90', 'Percentiles 90 - 100'])"
   ]
  },
  {
   "cell_type": "code",
   "execution_count": null,
   "metadata": {},
   "outputs": [],
   "source": [
    "wid[['weurope_0_50', 'weurope_50_90', 'weurope_90_100']].plot.bar(stacked = True)\n",
    "plt.xlabel('Periodo')\n",
    "plt.ylabel('Proporción de la participación en el PIB (Europa occ.)')\n",
    "plt.legend(loc = 2, labels = ['Percentiles 0 - 50', 'Percentiles 50 - 90', 'Percentiles 90 - 100'])"
   ]
  },
  {
   "cell_type": "code",
   "execution_count": null,
   "metadata": {},
   "outputs": [],
   "source": [
    "wid[['africa_0_50', 'africa_50_90', 'africa_90_100']].plot.bar(stacked = True)\n",
    "plt.xlabel('Periodo')\n",
    "plt.ylabel('Proporción de la participación en el PIB (África)')\n",
    "plt.legend(loc = 2, labels = ['Percentiles 0 - 50', 'Percentiles 50 - 90', 'Percentiles 90 - 100'])"
   ]
  },
  {
   "cell_type": "code",
   "execution_count": null,
   "metadata": {},
   "outputs": [],
   "source": [
    "wid[['chile_0_50', 'chile_50_90', 'chile_90_100']].plot.bar(stacked = True)\n",
    "plt.xlabel('Periodo')\n",
    "plt.ylabel('Proporción de la participación en el PIB (Chile)')\n",
    "plt.legend(loc = 2, labels = ['Percentiles 0 - 50', 'Percentiles 50 - 90', 'Percentiles 90 - 100'])"
   ]
  },
  {
   "cell_type": "code",
   "execution_count": null,
   "metadata": {},
   "outputs": [],
   "source": [
    "wid[['spain_0_50', 'spain_50_90', 'spain_90_100']].plot.bar(stacked = True)\n",
    "plt.xlabel('Periodo')\n",
    "plt.ylabel('Proporción de la participación en el PIB (España)')\n",
    "plt.legend(loc = 2, labels = ['Percentiles 0 - 50', 'Percentiles 50 - 90', 'Percentiles 90 - 100'])"
   ]
  },
  {
   "cell_type": "code",
   "execution_count": null,
   "metadata": {},
   "outputs": [],
   "source": [
    "# Cargar base de datos de países y regiones seleccionadas de la World Income Database para el periodo más reciente (2019)\n",
    "wid2 = pd.read_excel('wid2.xlsx', engine = 'openpyxl')\n",
    "wid2 = wid2.set_index('pais')\n",
    "\n",
    "# Convertir en porcentajes\n",
    "for col in wid2.columns:\n",
    "    wid2[col] = 100 * wid2[col]"
   ]
  },
  {
   "cell_type": "code",
   "execution_count": null,
   "metadata": {},
   "outputs": [],
   "source": [
    "wid2[['0_50', '50_90', '90_100']].sort_values('90_100').plot.barh(stacked = True, legend = False)\n",
    "plt.xlabel('Proporción de la participación en el PIB por percentil de ingreso')\n",
    "plt.ylabel('País o región')"
   ]
  },
  {
   "cell_type": "code",
   "execution_count": null,
   "metadata": {},
   "outputs": [],
   "source": [
    "wid2[['0_50', '50_90', '90_99', '99_100']].sort_values('99_100').plot.barh(stacked = True, legend = False)\n",
    "plt.xlabel('Proporción de la participación en el PIB por percentil de ingreso')\n",
    "plt.ylabel('País o región')"
   ]
  },
  {
   "cell_type": "code",
   "execution_count": null,
   "metadata": {},
   "outputs": [],
   "source": [
    "wid2[['0_50', '50_90', '90_99', '99_100']].sort_values('99_100', ascending = False)"
   ]
  },
  {
   "cell_type": "code",
   "execution_count": null,
   "metadata": {},
   "outputs": [],
   "source": [
    "# Cargar base de datos de deciles de ingreso (2018)\n",
    "deciles = pd.read_excel('deciles.xlsx', engine = 'openpyxl')\n",
    "deciles = deciles.set_index('decil')"
   ]
  },
  {
   "cell_type": "code",
   "execution_count": null,
   "metadata": {},
   "outputs": [],
   "source": [
    "deciles.plot.bar(legend = False)\n",
    "plt.xlabel('Deciles de hogares')\n",
    "plt.ylabel('Ingreso corriente trimestral promedio por decil ($MXN)')"
   ]
  },
  {
   "cell_type": "code",
   "execution_count": null,
   "metadata": {},
   "outputs": [],
   "source": [
    "# Veces que el decil I cabe en el decil X\n",
    "print(deciles.loc['X']['ingreso'] / deciles.loc['I']['ingreso'])"
   ]
  },
  {
   "cell_type": "code",
   "execution_count": null,
   "metadata": {},
   "outputs": [],
   "source": [
    "# Veces que el decil IX cabe en el decil X\n",
    "print(deciles.loc['X']['ingreso'] / deciles.loc['IX']['ingreso'])"
   ]
  },
  {
   "cell_type": "code",
   "execution_count": null,
   "metadata": {},
   "outputs": [],
   "source": [
    "# Línea de pobreza en 2018 (por persona, valores urbanos)\n",
    "linea_pobreza = 2996.41\n",
    "linea_pobrezae = 1500.84\n",
    "\n",
    "# Tamaño promedio del hogar en el país\n",
    "tamano_hogar = 3.7\n",
    "\n",
    "# Líneas de pobreza en 2018 (por hogar, valores rurales)\n",
    "linea_pobreza_h = linea_pobreza * tamano_hogar\n",
    "linea_pobrezae_h = linea_pobrezae * tamano_hogar"
   ]
  },
  {
   "cell_type": "code",
   "execution_count": null,
   "metadata": {},
   "outputs": [],
   "source": [
    "deciles.plot.bar(legend = False)\n",
    "plt.xlabel('Deciles de hogares')\n",
    "plt.ylabel('Ingreso corriente trimestral promedio por decil ($MXN)')\n",
    "plt.axhline(y = linea_pobreza_h, color = 'r')"
   ]
  },
  {
   "cell_type": "code",
   "execution_count": null,
   "metadata": {},
   "outputs": [],
   "source": []
  }
 ],
 "metadata": {
  "kernelspec": {
   "display_name": "Python 3",
   "language": "python",
   "name": "python3"
  },
  "language_info": {
   "codemirror_mode": {
    "name": "ipython",
    "version": 3
   },
   "file_extension": ".py",
   "mimetype": "text/x-python",
   "name": "python",
   "nbconvert_exporter": "python",
   "pygments_lexer": "ipython3",
   "version": "3.7.3"
  }
 },
 "nbformat": 4,
 "nbformat_minor": 4
}
